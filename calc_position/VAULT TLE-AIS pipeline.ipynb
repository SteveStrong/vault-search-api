{
 "cells": [
  {
   "cell_type": "markdown",
   "metadata": {},
   "source": [
    "# VAULT satellite-ship visibility code\n",
    "This Jupyter notebook demonstrates how to use the `HitFinder` class defined in `vault.py`."
   ]
  },
  {
   "cell_type": "markdown",
   "metadata": {},
   "source": [
    "## Basic usage\n",
    "`vault.py` has a `HitFinder` class which automates the necesary database queries and calculations. First, import the module:"
   ]
  },
  {
   "cell_type": "code",
   "execution_count": 1,
   "metadata": {},
   "outputs": [],
   "source": [
    "from vault import HitFinder"
   ]
  },
  {
   "cell_type": "markdown",
   "metadata": {},
   "source": [
    "### User input\n",
    "User input should include:\n",
    "* The minimum altitude above the horizon for a satellite to be considered able to see a given ship\n",
    "* The times to consider, as a Python `Datetime`  object\n",
    "* The time window around those times, in days, to search for relevant data\n",
    "\n",
    "Define it as a Python dictionary. Below, we define a set of parameters:\n",
    "* `altitude_min` sets the minimum altitude above the horizon for a satellite and vessel considered to have line-of-sight\n",
    "* `times` is a list of Python `datetime`objects representing the times of interest: May 1st through 4th, 2004\n",
    "* `search_window` means we by default will fetch AIS and TLE data in a window of 7 days around `times`, i.e., from April 24th to May 11th.\n",
    "* `sat_limit` limits us to fetching the first 100 unique satellite IDs we find in that time window\n",
    "* `vessel_ids` specifies a set of MMSIs (vessel IDs)\n",
    "\n",
    "`sat_ids`, not used here, would let us specify a list of satellite IDs, while `vessel_limit` would let us limit the vessels to the first N unique vessel IDs."
   ]
  },
  {
   "cell_type": "code",
   "execution_count": 2,
   "metadata": {},
   "outputs": [
    {
     "name": "stdout",
     "output_type": "stream",
     "text": [
      "{'altitude_min': 5.0,\n",
      " 'sat_limit': 10000,\n",
      " 'search_window': 7,\n",
      " 'times': [datetime.datetime(2004, 1, 1, 0, 0),\n",
      "           datetime.datetime(2004, 1, 2, 0, 0),\n",
      "           datetime.datetime(2004, 1, 3, 0, 0),\n",
      "           datetime.datetime(2004, 1, 4, 0, 0)],\n",
      " 'vessel_limit': None}\n"
     ]
    }
   ],
   "source": [
    "import datetime\n",
    "from pprint import pprint\n",
    "mmsis = ['235091871',\n",
    "         '247119100',\n",
    "         '311072100',\n",
    "         '257310000',\n",
    "         '356352000',\n",
    "         '368499000',\n",
    "         '366270000',\n",
    "         '366988820',\n",
    "         '564902000',\n",
    "         '577175000']\n",
    "params = {\n",
    "    'altitude_min': 5.0, # degrees\n",
    "    'times': [datetime.datetime(year=2004,month=1,day=d) for d in range(1,5)], # dates of interest\n",
    "    'search_window': 7, # window in days around times to search for AIS/TLE data\n",
    "    'sat_limit': 10000, # first 100 sats with data in window\n",
    "    'vessel_limit': None, # list of specific vessel IDs\n",
    "}\n",
    "pprint(params)"
   ]
  },
  {
   "cell_type": "markdown",
   "metadata": {},
   "source": [
    "Set up a `HitFinder` instance, which parses the `params` dict, does some preprocessing, and assigns sensible defaults for any missing data:"
   ]
  },
  {
   "cell_type": "code",
   "execution_count": 3,
   "metadata": {},
   "outputs": [
    {
     "name": "stdout",
     "output_type": "stream",
     "text": [
      "Parsing input...\n",
      "{'altitude_min': 5.0,\n",
      " 'sat_ids': None,\n",
      " 'sat_limit': 10000,\n",
      " 'search_window': Timedelta('7 days 00:00:00'),\n",
      " 'times': [Timestamp('2004-01-01 00:00:00+0000', tz='UTC'),\n",
      "           Timestamp('2004-01-02 00:00:00+0000', tz='UTC'),\n",
      "           Timestamp('2004-01-03 00:00:00+0000', tz='UTC'),\n",
      "           Timestamp('2004-01-04 00:00:00+0000', tz='UTC')],\n",
      " 'tmax': Timestamp('2004-01-11 00:00:00+0000', tz='UTC'),\n",
      " 'tmin': Timestamp('2003-12-25 00:00:00+0000', tz='UTC'),\n",
      " 'vessel_ids': None,\n",
      " 'vessel_limit': None}\n"
     ]
    }
   ],
   "source": [
    "hitFinder = HitFinder(params)\n",
    "pprint(hitFinder.get_params())"
   ]
  },
  {
   "cell_type": "markdown",
   "metadata": {},
   "source": [
    "Now open the database connection:"
   ]
  },
  {
   "cell_type": "code",
   "execution_count": 4,
   "metadata": {},
   "outputs": [
    {
     "name": "stdout",
     "output_type": "stream",
     "text": [
      "Opening DB connection...\n",
      "CPU times: user 3.3 ms, sys: 2.63 ms, total: 5.93 ms\n",
      "Wall time: 195 ms\n"
     ]
    }
   ],
   "source": [
    "%time hitFinder.open_db_connection(host='vault-mysql2.conyv1ix7bv7.us-east-1.rds.amazonaws.com',user='admin',password='vault2021!')"
   ]
  },
  {
   "cell_type": "markdown",
   "metadata": {},
   "source": [
    "The `hitFinder.db` class member has a `query` method to query the database. As an example, we can inspect the time ranges spanned by the AIS (`vault.ais`) and TLE (`vault.tle`) databases:"
   ]
  },
  {
   "cell_type": "code",
   "execution_count": 5,
   "metadata": {},
   "outputs": [
    {
     "name": "stdout",
     "output_type": "stream",
     "text": [
      "CPU times: user 1.29 ms, sys: 1.47 ms, total: 2.75 ms\n",
      "Wall time: 18 s\n"
     ]
    },
    {
     "data": {
      "text/plain": [
       "[{'max(base_date_time)': datetime.datetime(2017, 1, 31, 23, 59, 58),\n",
       "  'min(base_date_time)': datetime.datetime(2008, 12, 31, 23, 58, 59)}]"
      ]
     },
     "execution_count": 5,
     "metadata": {},
     "output_type": "execute_result"
    }
   ],
   "source": [
    "%time hitFinder.db.query('select max(base_date_time),min(base_date_time) from vault.ais')"
   ]
  },
  {
   "cell_type": "code",
   "execution_count": 6,
   "metadata": {},
   "outputs": [
    {
     "name": "stdout",
     "output_type": "stream",
     "text": [
      "CPU times: user 1.06 ms, sys: 1.06 ms, total: 2.12 ms\n",
      "Wall time: 15.3 s\n"
     ]
    },
    {
     "data": {
      "text/plain": [
       "[{'max(timestamp)': datetime.datetime(2004, 8, 18, 20, 0),\n",
       "  'min(timestamp)': datetime.datetime(1959, 1, 11, 1, 49, 23)}]"
      ]
     },
     "execution_count": 6,
     "metadata": {},
     "output_type": "execute_result"
    }
   ],
   "source": [
    "%time hitFinder.db.query('select max(timestamp),min(timestamp) from vault.tle')"
   ]
  },
  {
   "cell_type": "markdown",
   "metadata": {},
   "source": [
    "Once the database is open, we can fetch the data. The `load_tle_data()` and `load_ais_data()` methods handle this; you can specify a subset of satellite or vessel IDs via the `ids` keyword, as well as different time limits via `tmin` and `tmax`. By default these are taken from `params`; if the satellite/vessel IDs are not specified, the routine will fetch all data between `params['tmin']` and `params['tmax']`.\n",
    "\n",
    "As an example below, we extend the timeframe for the AIS data to 2015, as at time of writing there was no AIS data that overlapped with TLE data:"
   ]
  },
  {
   "cell_type": "code",
   "execution_count": 7,
   "metadata": {},
   "outputs": [
    {
     "name": "stdout",
     "output_type": "stream",
     "text": [
      "Fetching TLE data for timeframe and satellite IDs\n",
      "Fetching satellite IDs\n",
      "CPU times: user 8.15 s, sys: 312 ms, total: 8.46 s\n",
      "Wall time: 1min 7s\n"
     ]
    }
   ],
   "source": [
    "%time hitFinder.load_tle_data()"
   ]
  },
  {
   "cell_type": "code",
   "execution_count": 9,
   "metadata": {},
   "outputs": [
    {
     "name": "stdout",
     "output_type": "stream",
     "text": [
      "Fetching AIS data for timeframe and vessel IDs\n",
      "Fetching vessel IDs\n",
      "select * from vault.ais where base_date_time between \"2015-01-01T00:00:00\" and \"2015-01-02T00:00:00\"\n",
      "CPU times: user 4.43 s, sys: 140 ms, total: 4.56 s\n",
      "Wall time: 54.6 s\n"
     ]
    }
   ],
   "source": [
    "%time hitFinder.load_ais_data(tmin=datetime.datetime(year=2015,month=1,day=1),tmax=datetime.datetime(year=2015,month=1,day=2))"
   ]
  },
  {
   "cell_type": "markdown",
   "metadata": {},
   "source": [
    "The loaded data is stored as Pandas dataframes under the `HitFinder.tle_df` and `HitFinder.ais_df` class members:"
   ]
  },
  {
   "cell_type": "code",
   "execution_count": 12,
   "metadata": {},
   "outputs": [
    {
     "data": {
      "text/html": [
       "<div>\n",
       "<style scoped>\n",
       "    .dataframe tbody tr th:only-of-type {\n",
       "        vertical-align: middle;\n",
       "    }\n",
       "\n",
       "    .dataframe tbody tr th {\n",
       "        vertical-align: top;\n",
       "    }\n",
       "\n",
       "    .dataframe thead th {\n",
       "        text-align: right;\n",
       "    }\n",
       "</style>\n",
       "<table border=\"1\" class=\"dataframe\">\n",
       "  <thead>\n",
       "    <tr style=\"text-align: right;\">\n",
       "      <th></th>\n",
       "      <th>satellite_number</th>\n",
       "      <th>calc_anomaly</th>\n",
       "      <th>calc_mean_motion</th>\n",
       "      <th>calc_ballistic_coefficient</th>\n",
       "      <th>calc_inclination</th>\n",
       "      <th>line_number</th>\n",
       "      <th>calc_perigee</th>\n",
       "      <th>calc_drag</th>\n",
       "      <th>calc_right_ascension</th>\n",
       "      <th>calc_mean_motion_2</th>\n",
       "      <th>calc_eccentricity</th>\n",
       "    </tr>\n",
       "  </thead>\n",
       "  <tbody>\n",
       "    <tr>\n",
       "      <th>count</th>\n",
       "      <td>122471.000000</td>\n",
       "      <td>122471.000000</td>\n",
       "      <td>122471.000000</td>\n",
       "      <td>1.224710e+05</td>\n",
       "      <td>122471.000000</td>\n",
       "      <td>1.224710e+05</td>\n",
       "      <td>122471.000000</td>\n",
       "      <td>122471.000000</td>\n",
       "      <td>122471.000000</td>\n",
       "      <td>122471.000000</td>\n",
       "      <td>122471.000000</td>\n",
       "    </tr>\n",
       "    <tr>\n",
       "      <th>mean</th>\n",
       "      <td>15650.285063</td>\n",
       "      <td>181.886964</td>\n",
       "      <td>11.744055</td>\n",
       "      <td>1.646424e-04</td>\n",
       "      <td>73.930916</td>\n",
       "      <td>1.807664e+06</td>\n",
       "      <td>177.807275</td>\n",
       "      <td>0.000511</td>\n",
       "      <td>167.939608</td>\n",
       "      <td>0.000002</td>\n",
       "      <td>0.077484</td>\n",
       "    </tr>\n",
       "    <tr>\n",
       "      <th>std</th>\n",
       "      <td>8277.592211</td>\n",
       "      <td>108.895297</td>\n",
       "      <td>4.178560</td>\n",
       "      <td>6.988131e-03</td>\n",
       "      <td>25.569300</td>\n",
       "      <td>2.349923e+06</td>\n",
       "      <td>103.078177</td>\n",
       "      <td>0.013831</td>\n",
       "      <td>105.479120</td>\n",
       "      <td>0.000415</td>\n",
       "      <td>0.187019</td>\n",
       "    </tr>\n",
       "    <tr>\n",
       "      <th>min</th>\n",
       "      <td>5.000000</td>\n",
       "      <td>0.000200</td>\n",
       "      <td>0.242778</td>\n",
       "      <td>-4.791730e-01</td>\n",
       "      <td>0.001300</td>\n",
       "      <td>5.641000e+03</td>\n",
       "      <td>0.001500</td>\n",
       "      <td>-3.860100</td>\n",
       "      <td>0.000600</td>\n",
       "      <td>-0.000028</td>\n",
       "      <td>0.000003</td>\n",
       "    </tr>\n",
       "    <tr>\n",
       "      <th>25%</th>\n",
       "      <td>8566.000000</td>\n",
       "      <td>83.151350</td>\n",
       "      <td>12.325100</td>\n",
       "      <td>-2.000000e-08</td>\n",
       "      <td>65.779100</td>\n",
       "      <td>6.689000e+04</td>\n",
       "      <td>87.522250</td>\n",
       "      <td>0.000100</td>\n",
       "      <td>73.128300</td>\n",
       "      <td>0.000000</td>\n",
       "      <td>0.002144</td>\n",
       "    </tr>\n",
       "    <tr>\n",
       "      <th>50%</th>\n",
       "      <td>16202.000000</td>\n",
       "      <td>185.070000</td>\n",
       "      <td>13.534900</td>\n",
       "      <td>1.000000e-06</td>\n",
       "      <td>75.105500</td>\n",
       "      <td>1.281290e+05</td>\n",
       "      <td>175.710000</td>\n",
       "      <td>0.000100</td>\n",
       "      <td>157.753000</td>\n",
       "      <td>0.000000</td>\n",
       "      <td>0.006184</td>\n",
       "    </tr>\n",
       "    <tr>\n",
       "      <th>75%</th>\n",
       "      <td>22676.000000</td>\n",
       "      <td>278.328500</td>\n",
       "      <td>14.160000</td>\n",
       "      <td>9.295000e-06</td>\n",
       "      <td>97.732500</td>\n",
       "      <td>4.994634e+06</td>\n",
       "      <td>267.955000</td>\n",
       "      <td>0.000418</td>\n",
       "      <td>258.675000</td>\n",
       "      <td>0.000000</td>\n",
       "      <td>0.022309</td>\n",
       "    </tr>\n",
       "    <tr>\n",
       "      <th>max</th>\n",
       "      <td>28145.000000</td>\n",
       "      <td>359.999000</td>\n",
       "      <td>16.453600</td>\n",
       "      <td>1.000000e+00</td>\n",
       "      <td>144.645000</td>\n",
       "      <td>5.055931e+06</td>\n",
       "      <td>359.999000</td>\n",
       "      <td>0.825060</td>\n",
       "      <td>359.998000</td>\n",
       "      <td>0.119890</td>\n",
       "      <td>0.884896</td>\n",
       "    </tr>\n",
       "  </tbody>\n",
       "</table>\n",
       "</div>"
      ],
      "text/plain": [
       "       satellite_number   calc_anomaly  calc_mean_motion  \\\n",
       "count     122471.000000  122471.000000     122471.000000   \n",
       "mean       15650.285063     181.886964         11.744055   \n",
       "std         8277.592211     108.895297          4.178560   \n",
       "min            5.000000       0.000200          0.242778   \n",
       "25%         8566.000000      83.151350         12.325100   \n",
       "50%        16202.000000     185.070000         13.534900   \n",
       "75%        22676.000000     278.328500         14.160000   \n",
       "max        28145.000000     359.999000         16.453600   \n",
       "\n",
       "       calc_ballistic_coefficient  calc_inclination   line_number  \\\n",
       "count                1.224710e+05     122471.000000  1.224710e+05   \n",
       "mean                 1.646424e-04         73.930916  1.807664e+06   \n",
       "std                  6.988131e-03         25.569300  2.349923e+06   \n",
       "min                 -4.791730e-01          0.001300  5.641000e+03   \n",
       "25%                 -2.000000e-08         65.779100  6.689000e+04   \n",
       "50%                  1.000000e-06         75.105500  1.281290e+05   \n",
       "75%                  9.295000e-06         97.732500  4.994634e+06   \n",
       "max                  1.000000e+00        144.645000  5.055931e+06   \n",
       "\n",
       "        calc_perigee      calc_drag  calc_right_ascension  calc_mean_motion_2  \\\n",
       "count  122471.000000  122471.000000         122471.000000       122471.000000   \n",
       "mean      177.807275       0.000511            167.939608            0.000002   \n",
       "std       103.078177       0.013831            105.479120            0.000415   \n",
       "min         0.001500      -3.860100              0.000600           -0.000028   \n",
       "25%        87.522250       0.000100             73.128300            0.000000   \n",
       "50%       175.710000       0.000100            157.753000            0.000000   \n",
       "75%       267.955000       0.000418            258.675000            0.000000   \n",
       "max       359.999000       0.825060            359.998000            0.119890   \n",
       "\n",
       "       calc_eccentricity  \n",
       "count      122471.000000  \n",
       "mean            0.077484  \n",
       "std             0.187019  \n",
       "min             0.000003  \n",
       "25%             0.002144  \n",
       "50%             0.006184  \n",
       "75%             0.022309  \n",
       "max             0.884896  "
      ]
     },
     "execution_count": 12,
     "metadata": {},
     "output_type": "execute_result"
    }
   ],
   "source": [
    "hitFinder.tle_df.describe()"
   ]
  },
  {
   "cell_type": "code",
   "execution_count": 13,
   "metadata": {},
   "outputs": [
    {
     "data": {
      "text/html": [
       "<div>\n",
       "<style scoped>\n",
       "    .dataframe tbody tr th:only-of-type {\n",
       "        vertical-align: middle;\n",
       "    }\n",
       "\n",
       "    .dataframe tbody tr th {\n",
       "        vertical-align: top;\n",
       "    }\n",
       "\n",
       "    .dataframe thead th {\n",
       "        text-align: right;\n",
       "    }\n",
       "</style>\n",
       "<table border=\"1\" class=\"dataframe\">\n",
       "  <thead>\n",
       "    <tr style=\"text-align: right;\">\n",
       "      <th></th>\n",
       "      <th>heading</th>\n",
       "      <th>length</th>\n",
       "      <th>lon</th>\n",
       "      <th>sog</th>\n",
       "      <th>draft</th>\n",
       "      <th>vessel_type</th>\n",
       "      <th>width</th>\n",
       "      <th>cog</th>\n",
       "      <th>cargo</th>\n",
       "      <th>lat</th>\n",
       "    </tr>\n",
       "  </thead>\n",
       "  <tbody>\n",
       "    <tr>\n",
       "      <th>count</th>\n",
       "      <td>81434.000000</td>\n",
       "      <td>81420.000000</td>\n",
       "      <td>81434.000000</td>\n",
       "      <td>81434.000000</td>\n",
       "      <td>81420.000000</td>\n",
       "      <td>81420.000000</td>\n",
       "      <td>81420.000000</td>\n",
       "      <td>81434.000000</td>\n",
       "      <td>67183.000000</td>\n",
       "      <td>81434.000000</td>\n",
       "    </tr>\n",
       "    <tr>\n",
       "      <th>mean</th>\n",
       "      <td>360.736928</td>\n",
       "      <td>64.708333</td>\n",
       "      <td>-166.355635</td>\n",
       "      <td>2.327740</td>\n",
       "      <td>3.037472</td>\n",
       "      <td>892.335298</td>\n",
       "      <td>14.627520</td>\n",
       "      <td>-38.745261</td>\n",
       "      <td>31.178617</td>\n",
       "      <td>54.130109</td>\n",
       "    </tr>\n",
       "    <tr>\n",
       "      <th>std</th>\n",
       "      <td>176.897329</td>\n",
       "      <td>73.550358</td>\n",
       "      <td>2.225055</td>\n",
       "      <td>4.669343</td>\n",
       "      <td>4.420976</td>\n",
       "      <td>309.937091</td>\n",
       "      <td>13.546394</td>\n",
       "      <td>116.595225</td>\n",
       "      <td>26.366108</td>\n",
       "      <td>0.628096</td>\n",
       "    </tr>\n",
       "    <tr>\n",
       "      <th>min</th>\n",
       "      <td>0.000000</td>\n",
       "      <td>0.000000</td>\n",
       "      <td>-179.765000</td>\n",
       "      <td>-0.100000</td>\n",
       "      <td>-12.800000</td>\n",
       "      <td>0.000000</td>\n",
       "      <td>0.000000</td>\n",
       "      <td>-204.800000</td>\n",
       "      <td>0.000000</td>\n",
       "      <td>51.731100</td>\n",
       "    </tr>\n",
       "    <tr>\n",
       "      <th>25%</th>\n",
       "      <td>222.000000</td>\n",
       "      <td>30.000000</td>\n",
       "      <td>-166.573000</td>\n",
       "      <td>0.000000</td>\n",
       "      <td>0.000000</td>\n",
       "      <td>1001.000000</td>\n",
       "      <td>8.530000</td>\n",
       "      <td>-133.600000</td>\n",
       "      <td>1.000000</td>\n",
       "      <td>53.869000</td>\n",
       "    </tr>\n",
       "    <tr>\n",
       "      <th>50%</th>\n",
       "      <td>511.000000</td>\n",
       "      <td>39.630000</td>\n",
       "      <td>-166.539000</td>\n",
       "      <td>0.000000</td>\n",
       "      <td>0.000000</td>\n",
       "      <td>1001.000000</td>\n",
       "      <td>9.760000</td>\n",
       "      <td>-80.400000</td>\n",
       "      <td>30.000000</td>\n",
       "      <td>53.901100</td>\n",
       "    </tr>\n",
       "    <tr>\n",
       "      <th>75%</th>\n",
       "      <td>511.000000</td>\n",
       "      <td>56.390000</td>\n",
       "      <td>-166.508000</td>\n",
       "      <td>0.200000</td>\n",
       "      <td>4.570000</td>\n",
       "      <td>1001.000000</td>\n",
       "      <td>12.200000</td>\n",
       "      <td>49.100000</td>\n",
       "      <td>39.000000</td>\n",
       "      <td>54.212350</td>\n",
       "    </tr>\n",
       "    <tr>\n",
       "      <th>max</th>\n",
       "      <td>511.000000</td>\n",
       "      <td>349.000000</td>\n",
       "      <td>-162.001000</td>\n",
       "      <td>22.000000</td>\n",
       "      <td>18.200000</td>\n",
       "      <td>1025.000000</td>\n",
       "      <td>70.000000</td>\n",
       "      <td>204.700000</td>\n",
       "      <td>152.000000</td>\n",
       "      <td>57.188400</td>\n",
       "    </tr>\n",
       "  </tbody>\n",
       "</table>\n",
       "</div>"
      ],
      "text/plain": [
       "            heading        length           lon           sog         draft  \\\n",
       "count  81434.000000  81420.000000  81434.000000  81434.000000  81420.000000   \n",
       "mean     360.736928     64.708333   -166.355635      2.327740      3.037472   \n",
       "std      176.897329     73.550358      2.225055      4.669343      4.420976   \n",
       "min        0.000000      0.000000   -179.765000     -0.100000    -12.800000   \n",
       "25%      222.000000     30.000000   -166.573000      0.000000      0.000000   \n",
       "50%      511.000000     39.630000   -166.539000      0.000000      0.000000   \n",
       "75%      511.000000     56.390000   -166.508000      0.200000      4.570000   \n",
       "max      511.000000    349.000000   -162.001000     22.000000     18.200000   \n",
       "\n",
       "        vessel_type         width           cog         cargo           lat  \n",
       "count  81420.000000  81420.000000  81434.000000  67183.000000  81434.000000  \n",
       "mean     892.335298     14.627520    -38.745261     31.178617     54.130109  \n",
       "std      309.937091     13.546394    116.595225     26.366108      0.628096  \n",
       "min        0.000000      0.000000   -204.800000      0.000000     51.731100  \n",
       "25%     1001.000000      8.530000   -133.600000      1.000000     53.869000  \n",
       "50%     1001.000000      9.760000    -80.400000     30.000000     53.901100  \n",
       "75%     1001.000000     12.200000     49.100000     39.000000     54.212350  \n",
       "max     1025.000000     70.000000    204.700000    152.000000     57.188400  "
      ]
     },
     "execution_count": 13,
     "metadata": {},
     "output_type": "execute_result"
    }
   ],
   "source": [
    "hitFinder.ais_df.describe()"
   ]
  },
  {
   "cell_type": "markdown",
   "metadata": {},
   "source": [
    "Now just call the `find_all_hits()` method. This uses the array of times from `params` and returns a list of either Python dictionaries or JSON strings suitable for, e.g., sending to an ElasticSearch instance. Here, we set `json=False` so we can inspect the resulting dictionary better:"
   ]
  },
  {
   "cell_type": "code",
   "execution_count": 15,
   "metadata": {},
   "outputs": [
    {
     "name": "stdout",
     "output_type": "stream",
     "text": [
      "CPU times: user 2min 2s, sys: 428 ms, total: 2min 2s\n",
      "Wall time: 2min 2s\n"
     ]
    }
   ],
   "source": [
    "%time hits = hitFinder.find_hits(t=hitFinder.get_params()['times'][0],json=False)"
   ]
  },
  {
   "cell_type": "code",
   "execution_count": 26,
   "metadata": {},
   "outputs": [],
   "source": [
    "import json\n",
    "with open('all_sats_all_ships.json','w+') as fp:\n",
    "    fp.write(json.dumps(hits))"
   ]
  },
  {
   "cell_type": "markdown",
   "metadata": {},
   "source": [
    "Each element of the resulting list has a number of keys:\n",
    "* `utc`: the time requested in ISO format.\n",
    "* `satellites`: Information on each satellite at this time\n",
    "    * `id`: Identifier  (satellite catalog number)\n",
    "    * `lat`: Latitude (degrees)\n",
    "    * `lon`: Longitude (degrees)\n",
    "    * `alt`: Altitude (kilometers)\n",
    "    * `horizon`: Estimated distance in degrees to horizon along Earth's surface from satellite's point of view. Assumes a spherical Earth.\n",
    "* `vessels`: Information on each vessel at this time\n",
    "    * `id`: Identifier (MMSI)\n",
    "    * `lat`: Latitude (degrees)\n",
    "    * `lon`: Longitude (degrees)\n",
    "    * `alt`: Altitude (kilometers)\n",
    "    * `sog`: Speed over ground (km/hr)\n",
    "    * `cog`: Course over ground (degrees from true North)\n",
    "    * `method`: Method used to estimate ship position (`interp` = interpolation between adjacent AIS entries, `extrap` = extrapolation from nearest AIS entry)\n",
    "    * `nearest_ais`: List of AIS entres for this vessel immediately before and immediately after this time.\n",
    "    * `delta_t`: Time (in hours) between this time and the closest AIS entry\n",
    "* `pairs`: Information on satellite-vessel pairs, indexed by strings of the form `<satellite_id>,<vessel_id>`\n",
    "    * `sat_id`: Satellite identifier (catalog number)\n",
    "    * `ves_id`: Vessel identifier (MMSI)\n",
    "    * `azimuth`: Azimuthal angle from vessel to satellite (degrees)\n",
    "    * `elevation`: Elevation of satellite above vessel's horizon (degrees)\n",
    "    * `range`: Distance between satellite and vessel (kilometers)\n",
    "    * `hit`: Boolean, true if elevation > `min_degrees`, false otherwise\n",
    "    \n",
    "Below, we look at each top-level key of the first element of `hits`:"
   ]
  },
  {
   "cell_type": "code",
   "execution_count": null,
   "metadata": {},
   "outputs": [],
   "source": [
    "pprint(hits[0]['utc'])"
   ]
  },
  {
   "cell_type": "code",
   "execution_count": null,
   "metadata": {},
   "outputs": [],
   "source": [
    "pprint(hits[0]['satellites'])"
   ]
  },
  {
   "cell_type": "code",
   "execution_count": null,
   "metadata": {},
   "outputs": [],
   "source": [
    "pprint(hits[0]['vessels'])"
   ]
  },
  {
   "cell_type": "code",
   "execution_count": null,
   "metadata": {},
   "outputs": [],
   "source": [
    "pprint(hits[0]['pairs'])"
   ]
  },
  {
   "cell_type": "code",
   "execution_count": null,
   "metadata": {},
   "outputs": [],
   "source": []
  }
 ],
 "metadata": {
  "kernelspec": {
   "display_name": "Python 3",
   "language": "python",
   "name": "python3"
  },
  "language_info": {
   "codemirror_mode": {
    "name": "ipython",
    "version": 3
   },
   "file_extension": ".py",
   "mimetype": "text/x-python",
   "name": "python",
   "nbconvert_exporter": "python",
   "pygments_lexer": "ipython3",
   "version": "3.9.1"
  }
 },
 "nbformat": 4,
 "nbformat_minor": 4
}
